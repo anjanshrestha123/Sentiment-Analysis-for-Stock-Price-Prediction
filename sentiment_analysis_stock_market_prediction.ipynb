{
 "cells": [
  {
   "cell_type": "markdown",
   "metadata": {},
   "source": [
    "# Sentiment Analysis for Stock Market Prediction #\n",
    "\n",
    "Reference: https://towardsdatascience.com/sentiment-analysis-for-stock-price-prediction-in-python-bed40c65d178"
   ]
  },
  {
   "cell_type": "markdown",
   "metadata": {},
   "source": [
    "### Imports and Packages ###"
   ]
  },
  {
   "cell_type": "code",
   "execution_count": 1,
   "metadata": {
    "tags": []
   },
   "outputs": [
    {
     "name": "stdout",
     "output_type": "stream",
     "text": [
      "2021-10-29 16:10:01,058 loading file /Users/aashish/.flair/models/sentiment-en-mix-distillbert_4.pt\n"
     ]
    }
   ],
   "source": [
    "# For flair module\n",
    "import flair\n",
    "sentiment_model = flair.models.TextClassifier.load('en-sentiment')\n",
    "\n",
    "# For text cleaning and preparation\n",
    "import nltk\n",
    "from nltk.corpus import stopwords\n",
    "from nltk.stem import PorterStemmer\n",
    "from nltk.stem import WordNetLemmatizer\n",
    "lemmatizer = WordNetLemmatizer()\n",
    "stemmer = PorterStemmer() \n",
    "\n",
    "# For dealing with dataframe\n",
    "import pandas as pd\n",
    "\n",
    "# For making request to API\n",
    "import requests\n",
    "\n",
    "# For calling yahoo finance to get stock price \n",
    "import pandas_datareader as pdr\n",
    "import datetime as dt\n",
    "import dateutil.parser as dparser\n"
   ]
  },
  {
   "cell_type": "markdown",
   "metadata": {},
   "source": [
    "### Model Properties ###"
   ]
  },
  {
   "cell_type": "code",
   "execution_count": 2,
   "metadata": {},
   "outputs": [],
   "source": [
    "# Twitter Properties\n",
    "TWITTER_SEARCH_URI = 'https://api.twitter.com/1.1/search/tweets.json'  # Twitter API search URI\n",
    "TWITTER_BEARER_TOKEN = 'AAAAAAAAAAAAAAAAAAAAAF8pUQEAAAAAL7QXs9hTVl4Zq2GE%2FYhVQeJ9kyE%3DUaV8oJRddqkRSZfDXYqI7qS2lBnfRV8lj2S0K6BPJeg4pPfRQf'   # Token for twitter API\n",
    "TWITTER_MAX_SENTIMENT = 5000   # Maximum number of sentiments to fetch from twitter API\n",
    "\n",
    "# Dataframe Properties\n",
    "AUTHOR_NAME = 'Author_Name'\n",
    "FOLLOWERS_COUNT = 'Followers_Count'\n",
    "USER_MENTIONS = 'User_Mentions'         # Contains comma separated full name of the mentioned user\n",
    "HASH_TAGS = 'Hash_Tags'                 # Contains comma separated hashtag texts\n",
    "FRIENDS_COUNT = 'Friends_Count'\n",
    "TEXT = 'Text'\n",
    "RETWEET_COUNT = 'Retweet_Count'\n",
    "CREATED_AT = 'Created_At'\n",
    "SENTIMENT = 'Sentiment'\n",
    "SENTIMENT_PROBABILITY = 'Sentiment_Probability'\n",
    "STOCK_PRICE = 'Stock_Price'\n",
    "\n",
    "# Stock Properties \n",
    "STOCK_NAME = 'tesla'    # Stock name to run model\n",
    "STOCK_TICKER = 'TSLA'"
   ]
  },
  {
   "cell_type": "markdown",
   "metadata": {
    "tags": []
   },
   "source": [
    "## 1. Extract Raw Data ##\n",
    "Calling Twitter API to get raw sentiments from users"
   ]
  },
  {
   "cell_type": "code",
   "execution_count": 3,
   "metadata": {
    "scrolled": true,
    "tags": []
   },
   "outputs": [],
   "source": [
    "# Parmeters to pass to twitter API\n",
    "params = {\n",
    "    'q': STOCK_NAME,\n",
    "    'tweet_mode': 'extended',\n",
    "    'lang': 'en',\n",
    "    'count': TWITTER_MAX_SENTIMENT\n",
    "}\n",
    "\n",
    "# Call twitter API\n",
    "response = requests.get(\n",
    "    TWITTER_SEARCH_URI,\n",
    "    params=params,\n",
    "    headers={\n",
    "        'authorization': 'Bearer '+ TWITTER_BEARER_TOKEN\n",
    "})\n",
    "\n",
    "# Get response in json\n",
    "response_json = response.json()"
   ]
  },
  {
   "cell_type": "markdown",
   "metadata": {},
   "source": [
    "## 2. Dataset Creation ##"
   ]
  },
  {
   "cell_type": "markdown",
   "metadata": {
    "tags": []
   },
   "source": [
    "### I. Converting twitter response json to dataset ###"
   ]
  },
  {
   "cell_type": "code",
   "execution_count": 4,
   "metadata": {},
   "outputs": [],
   "source": [
    "# Defining dataframe with features \n",
    "df = pd.DataFrame(columns=[\n",
    "    AUTHOR_NAME, \n",
    "    FOLLOWERS_COUNT, \n",
    "    USER_MENTIONS, \n",
    "    HASH_TAGS, \n",
    "    FRIENDS_COUNT, \n",
    "    TEXT, \n",
    "    RETWEET_COUNT, \n",
    "    CREATED_AT\n",
    "])"
   ]
  },
  {
   "cell_type": "code",
   "execution_count": 5,
   "metadata": {},
   "outputs": [],
   "source": [
    "# Converting twitter response json to dataset selecting required features\n",
    "for status in response_json['statuses']:    \n",
    "    df = df.append({\n",
    "        AUTHOR_NAME: status['user']['name'],\n",
    "        FOLLOWERS_COUNT: status['user']['followers_count'], \n",
    "        USER_MENTIONS: ','.join([ um['name'] for um in status['entities']['user_mentions']]),    # joined user mentions with comma separated value\n",
    "        HASH_TAGS: ','.join([ ht['text'] for ht in status['entities']['hashtags']]),         # joined hashtags with comma separated value\n",
    "        FRIENDS_COUNT: status['user']['friends_count'],\n",
    "        TEXT: status['full_text'],\n",
    "        RETWEET_COUNT: status['retweet_count'],\n",
    "        CREATED_AT: status['created_at']\n",
    "    }, ignore_index=True)"
   ]
  },
  {
   "cell_type": "markdown",
   "metadata": {
    "tags": []
   },
   "source": [
    "### II. Creating Stock Price label by using yahoo finance module ###"
   ]
  },
  {
   "cell_type": "code",
   "execution_count": 6,
   "metadata": {},
   "outputs": [],
   "source": [
    "# Creating dictionary of date and stock price for particular stock\n",
    "stock_price_dict = {}\n",
    "\n",
    "for created_at in df[CREATED_AT]:\n",
    "    parsed_date = dparser.parse(created_at, fuzzy=True)\n",
    "    date = dt.datetime(parsed_date.year,parsed_date.month,parsed_date.day)\n",
    "    if date not in stock_price_dict:\n",
    "        stock_price = pdr.get_data_yahoo(STOCK_TICKER, start = date, end = date)['Close'][0]\n",
    "        stock_price_dict[date] = stock_price"
   ]
  },
  {
   "cell_type": "code",
   "execution_count": 7,
   "metadata": {},
   "outputs": [],
   "source": [
    "# Adding stock price label in the dataframe\n",
    "stock_prices = []\n",
    "for created_at in df[CREATED_AT]:\n",
    "    parsed_date = dparser.parse(created_at, fuzzy=True)\n",
    "    date = dt.datetime(parsed_date.year,parsed_date.month,parsed_date.day)\n",
    "    stock_prices.append(stock_price_dict[date])\n",
    "\n",
    "df[STOCK_PRICE] = stock_prices"
   ]
  },
  {
   "cell_type": "code",
   "execution_count": 8,
   "metadata": {},
   "outputs": [
    {
     "data": {
      "text/html": [
       "<div>\n",
       "<style scoped>\n",
       "    .dataframe tbody tr th:only-of-type {\n",
       "        vertical-align: middle;\n",
       "    }\n",
       "\n",
       "    .dataframe tbody tr th {\n",
       "        vertical-align: top;\n",
       "    }\n",
       "\n",
       "    .dataframe thead th {\n",
       "        text-align: right;\n",
       "    }\n",
       "</style>\n",
       "<table border=\"1\" class=\"dataframe\">\n",
       "  <thead>\n",
       "    <tr style=\"text-align: right;\">\n",
       "      <th></th>\n",
       "      <th>Author_Name</th>\n",
       "      <th>Followers_Count</th>\n",
       "      <th>User_Mentions</th>\n",
       "      <th>Hash_Tags</th>\n",
       "      <th>Friends_Count</th>\n",
       "      <th>Text</th>\n",
       "      <th>Retweet_Count</th>\n",
       "      <th>Created_At</th>\n",
       "      <th>Stock_Price</th>\n",
       "    </tr>\n",
       "  </thead>\n",
       "  <tbody>\n",
       "    <tr>\n",
       "      <td>0</td>\n",
       "      <td>Jeff Grevenkamp</td>\n",
       "      <td>81</td>\n",
       "      <td>Gary Black</td>\n",
       "      <td></td>\n",
       "      <td>174</td>\n",
       "      <td>RT @garyblack00: Great article about Leo KoGua...</td>\n",
       "      <td>23</td>\n",
       "      <td>Fri Oct 29 21:10:02 +0000 2021</td>\n",
       "      <td>1114</td>\n",
       "    </tr>\n",
       "    <tr>\n",
       "      <td>1</td>\n",
       "      <td>david72626</td>\n",
       "      <td>0</td>\n",
       "      <td></td>\n",
       "      <td></td>\n",
       "      <td>0</td>\n",
       "      <td>Check out these new Market Research Reports:\\n...</td>\n",
       "      <td>0</td>\n",
       "      <td>Fri Oct 29 21:10:01 +0000 2021</td>\n",
       "      <td>1114</td>\n",
       "    </tr>\n",
       "    <tr>\n",
       "      <td>2</td>\n",
       "      <td>TradingView Español 🇪🇸</td>\n",
       "      <td>20543</td>\n",
       "      <td></td>\n",
       "      <td>TSLA</td>\n",
       "      <td>6000</td>\n",
       "      <td>#TSLA - tesla , msft y facebook - TradingView ...</td>\n",
       "      <td>0</td>\n",
       "      <td>Fri Oct 29 21:10:00 +0000 2021</td>\n",
       "      <td>1114</td>\n",
       "    </tr>\n",
       "    <tr>\n",
       "      <td>3</td>\n",
       "      <td>Tesla Speed Babe</td>\n",
       "      <td>337</td>\n",
       "      <td>Vishal Mistry 💭</td>\n",
       "      <td></td>\n",
       "      <td>309</td>\n",
       "      <td>RT @teslaunivrse: I started investing in $TSLA...</td>\n",
       "      <td>1</td>\n",
       "      <td>Fri Oct 29 21:10:00 +0000 2021</td>\n",
       "      <td>1114</td>\n",
       "    </tr>\n",
       "    <tr>\n",
       "      <td>4</td>\n",
       "      <td>BI</td>\n",
       "      <td>1107</td>\n",
       "      <td>shawté</td>\n",
       "      <td></td>\n",
       "      <td>624</td>\n",
       "      <td>RT @icraveguap: tired of paying for this expen...</td>\n",
       "      <td>1</td>\n",
       "      <td>Fri Oct 29 21:10:00 +0000 2021</td>\n",
       "      <td>1114</td>\n",
       "    </tr>\n",
       "  </tbody>\n",
       "</table>\n",
       "</div>"
      ],
      "text/plain": [
       "              Author_Name Followers_Count    User_Mentions Hash_Tags  \\\n",
       "0         Jeff Grevenkamp              81       Gary Black             \n",
       "1              david72626               0                              \n",
       "2  TradingView Español 🇪🇸           20543                       TSLA   \n",
       "3        Tesla Speed Babe             337  Vishal Mistry 💭             \n",
       "4                      BI            1107           shawté             \n",
       "\n",
       "  Friends_Count                                               Text  \\\n",
       "0           174  RT @garyblack00: Great article about Leo KoGua...   \n",
       "1             0  Check out these new Market Research Reports:\\n...   \n",
       "2          6000  #TSLA - tesla , msft y facebook - TradingView ...   \n",
       "3           309  RT @teslaunivrse: I started investing in $TSLA...   \n",
       "4           624  RT @icraveguap: tired of paying for this expen...   \n",
       "\n",
       "  Retweet_Count                      Created_At  Stock_Price  \n",
       "0            23  Fri Oct 29 21:10:02 +0000 2021         1114  \n",
       "1             0  Fri Oct 29 21:10:01 +0000 2021         1114  \n",
       "2             0  Fri Oct 29 21:10:00 +0000 2021         1114  \n",
       "3             1  Fri Oct 29 21:10:00 +0000 2021         1114  \n",
       "4             1  Fri Oct 29 21:10:00 +0000 2021         1114  "
      ]
     },
     "execution_count": 8,
     "metadata": {},
     "output_type": "execute_result"
    }
   ],
   "source": [
    "# Displaying top 5 record for visualizing\n",
    "df.head(5)"
   ]
  },
  {
   "cell_type": "markdown",
   "metadata": {
    "tags": []
   },
   "source": [
    "## 3. Feature Engineering ##"
   ]
  },
  {
   "cell_type": "markdown",
   "metadata": {
    "tags": []
   },
   "source": [
    "### I. Applying text cleaning methods ###"
   ]
  },
  {
   "cell_type": "code",
   "execution_count": 9,
   "metadata": {},
   "outputs": [],
   "source": [
    "# Function to clean text by applying several text cleaning methods\n",
    "def clean_prepare_text(text):\n",
    "    # 1. Clean the text - cleaning special character\n",
    "    filtered_text = text.replace(\"\\r\", \" \").replace(\"\\n\", \" \").replace(\"  \", \" \")\n",
    "\n",
    "    # 2. Remove all the punctuations\n",
    "    for punct_sign in list(\"?:!,;\\\"\"):\n",
    "        filtered_text = filtered_text.replace(punct_sign, '')\n",
    "\n",
    "    # 3. Convert to lowercase \n",
    "    filtered_text = filtered_text.lower()\n",
    "\n",
    "    # 4. Remove stopwords\n",
    "    filtered_text = \" \".join([text for text in filtered_text.split(\" \") if text not in stopwords.words('english')])\n",
    "\n",
    "    # 5. Remove meaningles words \n",
    "    filtered_text = filtered_text.replace(\"\\'ve\", '').replace(\"\\'s\", '').replace(\"\\'m\", '').replace(\"\\'t\", '')\n",
    "\n",
    "    # 6.a. Stemming\n",
    "    filtered_text = \" \".join([stemmer.stem(text) for text in filtered_text.split(\" \")])\n",
    "\n",
    "    # 6.b. lemmatization\n",
    "    filtered_text = \" \".join([lemmatizer.lemmatize(text) for text in filtered_text.split(\" \")])\n",
    "\n",
    "    return filtered_text\n"
   ]
  },
  {
   "cell_type": "code",
   "execution_count": 10,
   "metadata": {},
   "outputs": [],
   "source": [
    "# Clean and Prepare text for further processing\n",
    "df[TEXT] = [clean_prepare_text(text) for text in df[TEXT]]"
   ]
  },
  {
   "cell_type": "code",
   "execution_count": 11,
   "metadata": {},
   "outputs": [
    {
     "data": {
      "text/plain": [
       "'rt @garyblack00 great articl leo koguan tsla’ 3rd largest individu sh made $7b $tsla invest far. https/…'"
      ]
     },
     "execution_count": 11,
     "metadata": {},
     "output_type": "execute_result"
    }
   ],
   "source": [
    "df[TEXT][0]"
   ]
  },
  {
   "cell_type": "markdown",
   "metadata": {
    "tags": []
   },
   "source": [
    "### II. Creating Sentiment Feature by using pretrained 'flair' Model ###"
   ]
  },
  {
   "cell_type": "code",
   "execution_count": 12,
   "metadata": {},
   "outputs": [],
   "source": [
    "sentiments = []\n",
    "sentiment_probabilities = []\n",
    "\n",
    "for text in df[TEXT]:\n",
    "    sentence = flair.data.Sentence(text)\n",
    "    sentiment_model.predict(sentence)\n",
    "    \n",
    "    probability = sentence.labels[0].score  # numerical value 0-1\n",
    "    sentiment = sentence.labels[0].value    # 'POSITIVE' or 'NEGATIVE'\n",
    "    \n",
    "    sentiments.append(sentiment)\n",
    "    sentiment_probabilities.append(probability)\n",
    "    \n",
    "df[SENTIMENT] = sentiments\n",
    "df[SENTIMENT_PROBABILITY] = sentiment_probabilities"
   ]
  },
  {
   "cell_type": "code",
   "execution_count": 13,
   "metadata": {},
   "outputs": [
    {
     "data": {
      "text/html": [
       "<div>\n",
       "<style scoped>\n",
       "    .dataframe tbody tr th:only-of-type {\n",
       "        vertical-align: middle;\n",
       "    }\n",
       "\n",
       "    .dataframe tbody tr th {\n",
       "        vertical-align: top;\n",
       "    }\n",
       "\n",
       "    .dataframe thead th {\n",
       "        text-align: right;\n",
       "    }\n",
       "</style>\n",
       "<table border=\"1\" class=\"dataframe\">\n",
       "  <thead>\n",
       "    <tr style=\"text-align: right;\">\n",
       "      <th></th>\n",
       "      <th>Author_Name</th>\n",
       "      <th>Followers_Count</th>\n",
       "      <th>User_Mentions</th>\n",
       "      <th>Hash_Tags</th>\n",
       "      <th>Friends_Count</th>\n",
       "      <th>Text</th>\n",
       "      <th>Retweet_Count</th>\n",
       "      <th>Created_At</th>\n",
       "      <th>Stock_Price</th>\n",
       "      <th>Sentiment</th>\n",
       "      <th>Sentiment_Probability</th>\n",
       "    </tr>\n",
       "  </thead>\n",
       "  <tbody>\n",
       "    <tr>\n",
       "      <td>0</td>\n",
       "      <td>Jeff Grevenkamp</td>\n",
       "      <td>81</td>\n",
       "      <td>Gary Black</td>\n",
       "      <td></td>\n",
       "      <td>174</td>\n",
       "      <td>rt @garyblack00 great articl leo koguan tsla’ ...</td>\n",
       "      <td>23</td>\n",
       "      <td>Fri Oct 29 21:10:02 +0000 2021</td>\n",
       "      <td>1114</td>\n",
       "      <td>POSITIVE</td>\n",
       "      <td>0.981909</td>\n",
       "    </tr>\n",
       "    <tr>\n",
       "      <td>1</td>\n",
       "      <td>david72626</td>\n",
       "      <td>0</td>\n",
       "      <td></td>\n",
       "      <td></td>\n",
       "      <td>0</td>\n",
       "      <td>check new market research report ac servomotor...</td>\n",
       "      <td>0</td>\n",
       "      <td>Fri Oct 29 21:10:01 +0000 2021</td>\n",
       "      <td>1114</td>\n",
       "      <td>POSITIVE</td>\n",
       "      <td>0.774058</td>\n",
       "    </tr>\n",
       "    <tr>\n",
       "      <td>2</td>\n",
       "      <td>TradingView Español 🇪🇸</td>\n",
       "      <td>20543</td>\n",
       "      <td></td>\n",
       "      <td>TSLA</td>\n",
       "      <td>6000</td>\n",
       "      <td>#tsla - tesla  msft facebook - tradingview - h...</td>\n",
       "      <td>0</td>\n",
       "      <td>Fri Oct 29 21:10:00 +0000 2021</td>\n",
       "      <td>1114</td>\n",
       "      <td>POSITIVE</td>\n",
       "      <td>0.801314</td>\n",
       "    </tr>\n",
       "    <tr>\n",
       "      <td>3</td>\n",
       "      <td>Tesla Speed Babe</td>\n",
       "      <td>337</td>\n",
       "      <td>Vishal Mistry 💭</td>\n",
       "      <td></td>\n",
       "      <td>309</td>\n",
       "      <td>rt @teslaunivrs start invest $tsla last year w...</td>\n",
       "      <td>1</td>\n",
       "      <td>Fri Oct 29 21:10:00 +0000 2021</td>\n",
       "      <td>1114</td>\n",
       "      <td>POSITIVE</td>\n",
       "      <td>0.978980</td>\n",
       "    </tr>\n",
       "    <tr>\n",
       "      <td>4</td>\n",
       "      <td>BI</td>\n",
       "      <td>1107</td>\n",
       "      <td>shawté</td>\n",
       "      <td></td>\n",
       "      <td>624</td>\n",
       "      <td>rt @icraveguap tire pay expens as ga let order...</td>\n",
       "      <td>1</td>\n",
       "      <td>Fri Oct 29 21:10:00 +0000 2021</td>\n",
       "      <td>1114</td>\n",
       "      <td>NEGATIVE</td>\n",
       "      <td>0.968201</td>\n",
       "    </tr>\n",
       "  </tbody>\n",
       "</table>\n",
       "</div>"
      ],
      "text/plain": [
       "              Author_Name Followers_Count    User_Mentions Hash_Tags  \\\n",
       "0         Jeff Grevenkamp              81       Gary Black             \n",
       "1              david72626               0                              \n",
       "2  TradingView Español 🇪🇸           20543                       TSLA   \n",
       "3        Tesla Speed Babe             337  Vishal Mistry 💭             \n",
       "4                      BI            1107           shawté             \n",
       "\n",
       "  Friends_Count                                               Text  \\\n",
       "0           174  rt @garyblack00 great articl leo koguan tsla’ ...   \n",
       "1             0  check new market research report ac servomotor...   \n",
       "2          6000  #tsla - tesla  msft facebook - tradingview - h...   \n",
       "3           309  rt @teslaunivrs start invest $tsla last year w...   \n",
       "4           624  rt @icraveguap tire pay expens as ga let order...   \n",
       "\n",
       "  Retweet_Count                      Created_At  Stock_Price Sentiment  \\\n",
       "0            23  Fri Oct 29 21:10:02 +0000 2021         1114  POSITIVE   \n",
       "1             0  Fri Oct 29 21:10:01 +0000 2021         1114  POSITIVE   \n",
       "2             0  Fri Oct 29 21:10:00 +0000 2021         1114  POSITIVE   \n",
       "3             1  Fri Oct 29 21:10:00 +0000 2021         1114  POSITIVE   \n",
       "4             1  Fri Oct 29 21:10:00 +0000 2021         1114  NEGATIVE   \n",
       "\n",
       "   Sentiment_Probability  \n",
       "0               0.981909  \n",
       "1               0.774058  \n",
       "2               0.801314  \n",
       "3               0.978980  \n",
       "4               0.968201  "
      ]
     },
     "execution_count": 13,
     "metadata": {},
     "output_type": "execute_result"
    }
   ],
   "source": [
    "# Displaying top 5 record for visualizing\n",
    "df.head(5)"
   ]
  },
  {
   "cell_type": "code",
   "execution_count": 14,
   "metadata": {},
   "outputs": [],
   "source": [
    "import matplotlib.pyplot as plt\n",
    "newdf= df.groupby(\"Sentiment\").count()\n"
   ]
  },
  {
   "cell_type": "code",
   "execution_count": 15,
   "metadata": {},
   "outputs": [
    {
     "data": {
      "image/png": "[encoded data removed]",
      "text/plain": [
       "<Figure size 921.6x432 with 1 Axes>"
      ]
     },
     "metadata": {
      "needs_background": "light"
     },
     "output_type": "display_data"
    }
   ],
   "source": [
    "import seaborn as sns\n",
    "plt.figure(figsize=(12.8,6))\n",
    "sns.distplot(df['Followers_Count']).set_title('News length distribution');\n",
    "\n"
   ]
  },
  {
   "cell_type": "code",
   "execution_count": 16,
   "metadata": {},
   "outputs": [],
   "source": [
    "#find the stock values by days"
   ]
  },
  {
   "cell_type": "code",
   "execution_count": 17,
   "metadata": {},
   "outputs": [],
   "source": [
    "import datetime\n",
    "base = datetime.datetime.today()\n",
    "date_list = [base - datetime.timedelta(days=x) for x in range(100)]"
   ]
  },
  {
   "cell_type": "code",
   "execution_count": 18,
   "metadata": {
    "scrolled": true
   },
   "outputs": [
    {
     "data": {
      "text/plain": [
       "[datetime.datetime(2021, 10, 29, 16, 10, 17, 669019),\n",
       " datetime.datetime(2021, 10, 28, 16, 10, 17, 669019),\n",
       " datetime.datetime(2021, 10, 27, 16, 10, 17, 669019),\n",
       " datetime.datetime(2021, 10, 26, 16, 10, 17, 669019),\n",
       " datetime.datetime(2021, 10, 25, 16, 10, 17, 669019),\n",
       " datetime.datetime(2021, 10, 24, 16, 10, 17, 669019),\n",
       " datetime.datetime(2021, 10, 23, 16, 10, 17, 669019),\n",
       " datetime.datetime(2021, 10, 22, 16, 10, 17, 669019),\n",
       " datetime.datetime(2021, 10, 21, 16, 10, 17, 669019),\n",
       " datetime.datetime(2021, 10, 20, 16, 10, 17, 669019),\n",
       " datetime.datetime(2021, 10, 19, 16, 10, 17, 669019),\n",
       " datetime.datetime(2021, 10, 18, 16, 10, 17, 669019),\n",
       " datetime.datetime(2021, 10, 17, 16, 10, 17, 669019),\n",
       " datetime.datetime(2021, 10, 16, 16, 10, 17, 669019),\n",
       " datetime.datetime(2021, 10, 15, 16, 10, 17, 669019),\n",
       " datetime.datetime(2021, 10, 14, 16, 10, 17, 669019),\n",
       " datetime.datetime(2021, 10, 13, 16, 10, 17, 669019),\n",
       " datetime.datetime(2021, 10, 12, 16, 10, 17, 669019),\n",
       " datetime.datetime(2021, 10, 11, 16, 10, 17, 669019),\n",
       " datetime.datetime(2021, 10, 10, 16, 10, 17, 669019),\n",
       " datetime.datetime(2021, 10, 9, 16, 10, 17, 669019),\n",
       " datetime.datetime(2021, 10, 8, 16, 10, 17, 669019),\n",
       " datetime.datetime(2021, 10, 7, 16, 10, 17, 669019),\n",
       " datetime.datetime(2021, 10, 6, 16, 10, 17, 669019),\n",
       " datetime.datetime(2021, 10, 5, 16, 10, 17, 669019),\n",
       " datetime.datetime(2021, 10, 4, 16, 10, 17, 669019),\n",
       " datetime.datetime(2021, 10, 3, 16, 10, 17, 669019),\n",
       " datetime.datetime(2021, 10, 2, 16, 10, 17, 669019),\n",
       " datetime.datetime(2021, 10, 1, 16, 10, 17, 669019),\n",
       " datetime.datetime(2021, 9, 30, 16, 10, 17, 669019),\n",
       " datetime.datetime(2021, 9, 29, 16, 10, 17, 669019),\n",
       " datetime.datetime(2021, 9, 28, 16, 10, 17, 669019),\n",
       " datetime.datetime(2021, 9, 27, 16, 10, 17, 669019),\n",
       " datetime.datetime(2021, 9, 26, 16, 10, 17, 669019),\n",
       " datetime.datetime(2021, 9, 25, 16, 10, 17, 669019),\n",
       " datetime.datetime(2021, 9, 24, 16, 10, 17, 669019),\n",
       " datetime.datetime(2021, 9, 23, 16, 10, 17, 669019),\n",
       " datetime.datetime(2021, 9, 22, 16, 10, 17, 669019),\n",
       " datetime.datetime(2021, 9, 21, 16, 10, 17, 669019),\n",
       " datetime.datetime(2021, 9, 20, 16, 10, 17, 669019),\n",
       " datetime.datetime(2021, 9, 19, 16, 10, 17, 669019),\n",
       " datetime.datetime(2021, 9, 18, 16, 10, 17, 669019),\n",
       " datetime.datetime(2021, 9, 17, 16, 10, 17, 669019),\n",
       " datetime.datetime(2021, 9, 16, 16, 10, 17, 669019),\n",
       " datetime.datetime(2021, 9, 15, 16, 10, 17, 669019),\n",
       " datetime.datetime(2021, 9, 14, 16, 10, 17, 669019),\n",
       " datetime.datetime(2021, 9, 13, 16, 10, 17, 669019),\n",
       " datetime.datetime(2021, 9, 12, 16, 10, 17, 669019),\n",
       " datetime.datetime(2021, 9, 11, 16, 10, 17, 669019),\n",
       " datetime.datetime(2021, 9, 10, 16, 10, 17, 669019),\n",
       " datetime.datetime(2021, 9, 9, 16, 10, 17, 669019),\n",
       " datetime.datetime(2021, 9, 8, 16, 10, 17, 669019),\n",
       " datetime.datetime(2021, 9, 7, 16, 10, 17, 669019),\n",
       " datetime.datetime(2021, 9, 6, 16, 10, 17, 669019),\n",
       " datetime.datetime(2021, 9, 5, 16, 10, 17, 669019),\n",
       " datetime.datetime(2021, 9, 4, 16, 10, 17, 669019),\n",
       " datetime.datetime(2021, 9, 3, 16, 10, 17, 669019),\n",
       " datetime.datetime(2021, 9, 2, 16, 10, 17, 669019),\n",
       " datetime.datetime(2021, 9, 1, 16, 10, 17, 669019),\n",
       " datetime.datetime(2021, 8, 31, 16, 10, 17, 669019),\n",
       " datetime.datetime(2021, 8, 30, 16, 10, 17, 669019),\n",
       " datetime.datetime(2021, 8, 29, 16, 10, 17, 669019),\n",
       " datetime.datetime(2021, 8, 28, 16, 10, 17, 669019),\n",
       " datetime.datetime(2021, 8, 27, 16, 10, 17, 669019),\n",
       " datetime.datetime(2021, 8, 26, 16, 10, 17, 669019),\n",
       " datetime.datetime(2021, 8, 25, 16, 10, 17, 669019),\n",
       " datetime.datetime(2021, 8, 24, 16, 10, 17, 669019),\n",
       " datetime.datetime(2021, 8, 23, 16, 10, 17, 669019),\n",
       " datetime.datetime(2021, 8, 22, 16, 10, 17, 669019),\n",
       " datetime.datetime(2021, 8, 21, 16, 10, 17, 669019),\n",
       " datetime.datetime(2021, 8, 20, 16, 10, 17, 669019),\n",
       " datetime.datetime(2021, 8, 19, 16, 10, 17, 669019),\n",
       " datetime.datetime(2021, 8, 18, 16, 10, 17, 669019),\n",
       " datetime.datetime(2021, 8, 17, 16, 10, 17, 669019),\n",
       " datetime.datetime(2021, 8, 16, 16, 10, 17, 669019),\n",
       " datetime.datetime(2021, 8, 15, 16, 10, 17, 669019),\n",
       " datetime.datetime(2021, 8, 14, 16, 10, 17, 669019),\n",
       " datetime.datetime(2021, 8, 13, 16, 10, 17, 669019),\n",
       " datetime.datetime(2021, 8, 12, 16, 10, 17, 669019),\n",
       " datetime.datetime(2021, 8, 11, 16, 10, 17, 669019),\n",
       " datetime.datetime(2021, 8, 10, 16, 10, 17, 669019),\n",
       " datetime.datetime(2021, 8, 9, 16, 10, 17, 669019),\n",
       " datetime.datetime(2021, 8, 8, 16, 10, 17, 669019),\n",
       " datetime.datetime(2021, 8, 7, 16, 10, 17, 669019),\n",
       " datetime.datetime(2021, 8, 6, 16, 10, 17, 669019),\n",
       " datetime.datetime(2021, 8, 5, 16, 10, 17, 669019),\n",
       " datetime.datetime(2021, 8, 4, 16, 10, 17, 669019),\n",
       " datetime.datetime(2021, 8, 3, 16, 10, 17, 669019),\n",
       " datetime.datetime(2021, 8, 2, 16, 10, 17, 669019),\n",
       " datetime.datetime(2021, 8, 1, 16, 10, 17, 669019),\n",
       " datetime.datetime(2021, 7, 31, 16, 10, 17, 669019),\n",
       " datetime.datetime(2021, 7, 30, 16, 10, 17, 669019),\n",
       " datetime.datetime(2021, 7, 29, 16, 10, 17, 669019),\n",
       " datetime.datetime(2021, 7, 28, 16, 10, 17, 669019),\n",
       " datetime.datetime(2021, 7, 27, 16, 10, 17, 669019),\n",
       " datetime.datetime(2021, 7, 26, 16, 10, 17, 669019),\n",
       " datetime.datetime(2021, 7, 25, 16, 10, 17, 669019),\n",
       " datetime.datetime(2021, 7, 24, 16, 10, 17, 669019),\n",
       " datetime.datetime(2021, 7, 23, 16, 10, 17, 669019),\n",
       " datetime.datetime(2021, 7, 22, 16, 10, 17, 669019)]"
      ]
     },
     "execution_count": 18,
     "metadata": {},
     "output_type": "execute_result"
    }
   ],
   "source": [
    "date_list"
   ]
  },
  {
   "cell_type": "code",
   "execution_count": 19,
   "metadata": {},
   "outputs": [],
   "source": [
    "# Creating dictionary of date and stock price for particular stock\n",
    "stock_price_dict = {}\n",
    "\n",
    "for created_at in df[CREATED_AT]:\n",
    "    parsed_date = dparser.parse(created_at, fuzzy=True)\n",
    "    date = dt.datetime(parsed_date.year,parsed_date.month,parsed_date.day)\n",
    "    if date not in stock_price_dict:\n",
    "        stock_price = pdr.get_data_yahoo(STOCK_TICKER, start = date, end = date)['Close'][0]\n",
    "        stock_price_dict[date] = stock_price"
   ]
  },
  {
   "cell_type": "code",
   "execution_count": 20,
   "metadata": {},
   "outputs": [],
   "source": [
    "# Creating dictionary of date and stock price for particular stock \n",
    "stock_price = pdr.get_data_yahoo(STOCK_TICKER, start = dt.datetime(2021,7,22), end = dt.datetime(2021,10,29))['Close']"
   ]
  },
  {
   "cell_type": "code",
   "execution_count": 21,
   "metadata": {},
   "outputs": [
    {
     "data": {
      "text/plain": [
       "649.260009765625"
      ]
     },
     "execution_count": 21,
     "metadata": {},
     "output_type": "execute_result"
    }
   ],
   "source": [
    "stock_price['2021-07-22']"
   ]
  },
  {
   "cell_type": "code",
   "execution_count": 22,
   "metadata": {},
   "outputs": [
    {
     "data": {
      "text/plain": [
       "Date\n",
       "2021-07-22     649.260010\n",
       "2021-07-23     643.380005\n",
       "2021-07-26     657.619995\n",
       "2021-07-27     644.780029\n",
       "2021-07-28     646.979980\n",
       "                 ...     \n",
       "2021-10-25    1024.859985\n",
       "2021-10-26    1018.429993\n",
       "2021-10-27    1037.859985\n",
       "2021-10-28    1077.040039\n",
       "2021-10-29    1114.000000\n",
       "Name: Close, Length: 71, dtype: float64"
      ]
     },
     "execution_count": 22,
     "metadata": {},
     "output_type": "execute_result"
    }
   ],
   "source": [
    "stock_price"
   ]
  },
  {
   "cell_type": "code",
   "execution_count": 24,
   "metadata": {},
   "outputs": [],
   "source": [
    "\n",
    "def format_date(mydate):\n",
    "    parsed_date = dparser.parse(mydate, fuzzy=True)\n",
    "    date = str(parsed_date.year)+'-'+str(parsed_date.month)+'-'+str(parsed_date.day)\n",
    "    return date\n"
   ]
  },
  {
   "cell_type": "code",
   "execution_count": 25,
   "metadata": {},
   "outputs": [
    {
     "data": {
      "text/plain": [
       "1114.0"
      ]
     },
     "execution_count": 25,
     "metadata": {},
     "output_type": "execute_result"
    }
   ],
   "source": [
    "stock_price[date]"
   ]
  },
  {
   "cell_type": "code",
   "execution_count": 26,
   "metadata": {},
   "outputs": [],
   "source": [
    "df['Created_At'] = pd.Series(map(format_date,df['Created_At']))"
   ]
  },
  {
   "cell_type": "code",
   "execution_count": 27,
   "metadata": {},
   "outputs": [],
   "source": [
    "df['price'] = pd.Series([stock_price[mydate] for mydate in df['Created_At']])"
   ]
  },
  {
   "cell_type": "code",
   "execution_count": 29,
   "metadata": {},
   "outputs": [
    {
     "data": {
      "text/plain": [
       "(90, 12)"
      ]
     },
     "execution_count": 29,
     "metadata": {},
     "output_type": "execute_result"
    }
   ],
   "source": [
    "df.shape"
   ]
  },
  {
   "cell_type": "markdown",
   "metadata": {},
   "source": [
    "# Encoding the categorical variable"
   ]
  },
  {
   "cell_type": "code",
   "execution_count": 31,
   "metadata": {},
   "outputs": [],
   "source": [
    "def is_pos(sentiment):\n",
    "    if sentiment=='POSITIVE':\n",
    "        return 1\n",
    "    else:\n",
    "        return -1\n",
    "df['Sentiment'] = pd.Series([is_pos(sentiment) for sentiment in df['Sentiment']])"
   ]
  },
  {
   "cell_type": "code",
   "execution_count": 32,
   "metadata": {},
   "outputs": [
    {
     "data": {
      "text/html": [
       "<div>\n",
       "<style scoped>\n",
       "    .dataframe tbody tr th:only-of-type {\n",
       "        vertical-align: middle;\n",
       "    }\n",
       "\n",
       "    .dataframe tbody tr th {\n",
       "        vertical-align: top;\n",
       "    }\n",
       "\n",
       "    .dataframe thead th {\n",
       "        text-align: right;\n",
       "    }\n",
       "</style>\n",
       "<table border=\"1\" class=\"dataframe\">\n",
       "  <thead>\n",
       "    <tr style=\"text-align: right;\">\n",
       "      <th></th>\n",
       "      <th>Author_Name</th>\n",
       "      <th>Followers_Count</th>\n",
       "      <th>User_Mentions</th>\n",
       "      <th>Hash_Tags</th>\n",
       "      <th>Friends_Count</th>\n",
       "      <th>Text</th>\n",
       "      <th>Retweet_Count</th>\n",
       "      <th>Created_At</th>\n",
       "      <th>Stock_Price</th>\n",
       "      <th>Sentiment</th>\n",
       "      <th>Sentiment_Probability</th>\n",
       "      <th>price</th>\n",
       "    </tr>\n",
       "  </thead>\n",
       "  <tbody>\n",
       "    <tr>\n",
       "      <td>0</td>\n",
       "      <td>Jeff Grevenkamp</td>\n",
       "      <td>81</td>\n",
       "      <td>Gary Black</td>\n",
       "      <td></td>\n",
       "      <td>174</td>\n",
       "      <td>rt @garyblack00 great articl leo koguan tsla’ ...</td>\n",
       "      <td>23</td>\n",
       "      <td>2021-10-29</td>\n",
       "      <td>1114</td>\n",
       "      <td>1</td>\n",
       "      <td>0.981909</td>\n",
       "      <td>1114.0</td>\n",
       "    </tr>\n",
       "    <tr>\n",
       "      <td>1</td>\n",
       "      <td>david72626</td>\n",
       "      <td>0</td>\n",
       "      <td></td>\n",
       "      <td></td>\n",
       "      <td>0</td>\n",
       "      <td>check new market research report ac servomotor...</td>\n",
       "      <td>0</td>\n",
       "      <td>2021-10-29</td>\n",
       "      <td>1114</td>\n",
       "      <td>1</td>\n",
       "      <td>0.774058</td>\n",
       "      <td>1114.0</td>\n",
       "    </tr>\n",
       "    <tr>\n",
       "      <td>2</td>\n",
       "      <td>TradingView Español 🇪🇸</td>\n",
       "      <td>20543</td>\n",
       "      <td></td>\n",
       "      <td>TSLA</td>\n",
       "      <td>6000</td>\n",
       "      <td>#tsla - tesla  msft facebook - tradingview - h...</td>\n",
       "      <td>0</td>\n",
       "      <td>2021-10-29</td>\n",
       "      <td>1114</td>\n",
       "      <td>1</td>\n",
       "      <td>0.801314</td>\n",
       "      <td>1114.0</td>\n",
       "    </tr>\n",
       "    <tr>\n",
       "      <td>3</td>\n",
       "      <td>Tesla Speed Babe</td>\n",
       "      <td>337</td>\n",
       "      <td>Vishal Mistry 💭</td>\n",
       "      <td></td>\n",
       "      <td>309</td>\n",
       "      <td>rt @teslaunivrs start invest $tsla last year w...</td>\n",
       "      <td>1</td>\n",
       "      <td>2021-10-29</td>\n",
       "      <td>1114</td>\n",
       "      <td>1</td>\n",
       "      <td>0.978980</td>\n",
       "      <td>1114.0</td>\n",
       "    </tr>\n",
       "    <tr>\n",
       "      <td>4</td>\n",
       "      <td>BI</td>\n",
       "      <td>1107</td>\n",
       "      <td>shawté</td>\n",
       "      <td></td>\n",
       "      <td>624</td>\n",
       "      <td>rt @icraveguap tire pay expens as ga let order...</td>\n",
       "      <td>1</td>\n",
       "      <td>2021-10-29</td>\n",
       "      <td>1114</td>\n",
       "      <td>-1</td>\n",
       "      <td>0.968201</td>\n",
       "      <td>1114.0</td>\n",
       "    </tr>\n",
       "    <tr>\n",
       "      <td>...</td>\n",
       "      <td>...</td>\n",
       "      <td>...</td>\n",
       "      <td>...</td>\n",
       "      <td>...</td>\n",
       "      <td>...</td>\n",
       "      <td>...</td>\n",
       "      <td>...</td>\n",
       "      <td>...</td>\n",
       "      <td>...</td>\n",
       "      <td>...</td>\n",
       "      <td>...</td>\n",
       "      <td>...</td>\n",
       "    </tr>\n",
       "    <tr>\n",
       "      <td>85</td>\n",
       "      <td>dxtr</td>\n",
       "      <td>330</td>\n",
       "      <td></td>\n",
       "      <td></td>\n",
       "      <td>324</td>\n",
       "      <td>grand momsi love momsi momsi love me. go use b...</td>\n",
       "      <td>0</td>\n",
       "      <td>2021-10-29</td>\n",
       "      <td>1114</td>\n",
       "      <td>1</td>\n",
       "      <td>0.897797</td>\n",
       "      <td>1114.0</td>\n",
       "    </tr>\n",
       "    <tr>\n",
       "      <td>86</td>\n",
       "      <td>Kwisatz Haderach HappyMerlot 🌵</td>\n",
       "      <td>309</td>\n",
       "      <td>VBL</td>\n",
       "      <td></td>\n",
       "      <td>596</td>\n",
       "      <td>@vlancipictur go bare knuckl brawl. lot politi...</td>\n",
       "      <td>0</td>\n",
       "      <td>2021-10-29</td>\n",
       "      <td>1114</td>\n",
       "      <td>-1</td>\n",
       "      <td>0.999782</td>\n",
       "      <td>1114.0</td>\n",
       "    </tr>\n",
       "    <tr>\n",
       "      <td>87</td>\n",
       "      <td>TJS</td>\n",
       "      <td>61</td>\n",
       "      <td>Electric Classic Cars</td>\n",
       "      <td></td>\n",
       "      <td>158</td>\n",
       "      <td>rt @elecclassiccar quit 1.21 gigawatt lot powe...</td>\n",
       "      <td>85</td>\n",
       "      <td>2021-10-29</td>\n",
       "      <td>1114</td>\n",
       "      <td>-1</td>\n",
       "      <td>0.915987</td>\n",
       "      <td>1114.0</td>\n",
       "    </tr>\n",
       "    <tr>\n",
       "      <td>88</td>\n",
       "      <td>shawté</td>\n",
       "      <td>1923</td>\n",
       "      <td></td>\n",
       "      <td></td>\n",
       "      <td>470</td>\n",
       "      <td>tire pay expens as ga let order tesla</td>\n",
       "      <td>1</td>\n",
       "      <td>2021-10-29</td>\n",
       "      <td>1114</td>\n",
       "      <td>-1</td>\n",
       "      <td>0.994456</td>\n",
       "      <td>1114.0</td>\n",
       "    </tr>\n",
       "    <tr>\n",
       "      <td>89</td>\n",
       "      <td>Nick Iannuzzi</td>\n",
       "      <td>702</td>\n",
       "      <td>Gail Alfar (Austin)</td>\n",
       "      <td></td>\n",
       "      <td>1100</td>\n",
       "      <td>rt @gailalfaratx tesla acceler transit sustain...</td>\n",
       "      <td>7</td>\n",
       "      <td>2021-10-29</td>\n",
       "      <td>1114</td>\n",
       "      <td>1</td>\n",
       "      <td>0.987515</td>\n",
       "      <td>1114.0</td>\n",
       "    </tr>\n",
       "  </tbody>\n",
       "</table>\n",
       "<p>90 rows × 12 columns</p>\n",
       "</div>"
      ],
      "text/plain": [
       "                       Author_Name Followers_Count          User_Mentions  \\\n",
       "0                  Jeff Grevenkamp              81             Gary Black   \n",
       "1                       david72626               0                          \n",
       "2           TradingView Español 🇪🇸           20543                          \n",
       "3                 Tesla Speed Babe             337        Vishal Mistry 💭   \n",
       "4                               BI            1107                 shawté   \n",
       "..                             ...             ...                    ...   \n",
       "85                            dxtr             330                          \n",
       "86  Kwisatz Haderach HappyMerlot 🌵             309                    VBL   \n",
       "87                             TJS              61  Electric Classic Cars   \n",
       "88                          shawté            1923                          \n",
       "89                   Nick Iannuzzi             702    Gail Alfar (Austin)   \n",
       "\n",
       "   Hash_Tags Friends_Count                                               Text  \\\n",
       "0                      174  rt @garyblack00 great articl leo koguan tsla’ ...   \n",
       "1                        0  check new market research report ac servomotor...   \n",
       "2       TSLA          6000  #tsla - tesla  msft facebook - tradingview - h...   \n",
       "3                      309  rt @teslaunivrs start invest $tsla last year w...   \n",
       "4                      624  rt @icraveguap tire pay expens as ga let order...   \n",
       "..       ...           ...                                                ...   \n",
       "85                     324  grand momsi love momsi momsi love me. go use b...   \n",
       "86                     596  @vlancipictur go bare knuckl brawl. lot politi...   \n",
       "87                     158  rt @elecclassiccar quit 1.21 gigawatt lot powe...   \n",
       "88                     470              tire pay expens as ga let order tesla   \n",
       "89                    1100  rt @gailalfaratx tesla acceler transit sustain...   \n",
       "\n",
       "   Retweet_Count  Created_At  Stock_Price  Sentiment  Sentiment_Probability  \\\n",
       "0             23  2021-10-29         1114          1               0.981909   \n",
       "1              0  2021-10-29         1114          1               0.774058   \n",
       "2              0  2021-10-29         1114          1               0.801314   \n",
       "3              1  2021-10-29         1114          1               0.978980   \n",
       "4              1  2021-10-29         1114         -1               0.968201   \n",
       "..           ...         ...          ...        ...                    ...   \n",
       "85             0  2021-10-29         1114          1               0.897797   \n",
       "86             0  2021-10-29         1114         -1               0.999782   \n",
       "87            85  2021-10-29         1114         -1               0.915987   \n",
       "88             1  2021-10-29         1114         -1               0.994456   \n",
       "89             7  2021-10-29         1114          1               0.987515   \n",
       "\n",
       "     price  \n",
       "0   1114.0  \n",
       "1   1114.0  \n",
       "2   1114.0  \n",
       "3   1114.0  \n",
       "4   1114.0  \n",
       "..     ...  \n",
       "85  1114.0  \n",
       "86  1114.0  \n",
       "87  1114.0  \n",
       "88  1114.0  \n",
       "89  1114.0  \n",
       "\n",
       "[90 rows x 12 columns]"
      ]
     },
     "execution_count": 32,
     "metadata": {},
     "output_type": "execute_result"
    }
   ],
   "source": [
    "df"
   ]
  },
  {
   "cell_type": "code",
   "execution_count": 36,
   "metadata": {},
   "outputs": [
    {
     "name": "stdout",
     "output_type": "stream",
     "text": [
      "(63, 2)\n",
      "(63,)\n",
      "(27, 2)\n",
      "(27,)\n"
     ]
    }
   ],
   "source": [
    "# add your code below this comment\n",
    "from sklearn.model_selection import train_test_split\n",
    "X_train, X_test, y_train, y_test = train_test_split(df[[\"Sentiment\", \"Followers_Count\"]], df[\"price\"], test_size=0.30, random_state=237)\n",
    "print(X_train.shape)\n",
    "print(y_train.shape)\n",
    "print(X_test.shape)\n",
    "print(y_test.shape)"
   ]
  },
  {
   "cell_type": "markdown",
   "metadata": {},
   "source": [
    "# 4 Create A Model"
   ]
  },
  {
   "cell_type": "markdown",
   "metadata": {
    "tags": []
   },
   "source": [
    "## 4. Train the Model ##"
   ]
  },
  {
   "cell_type": "markdown",
   "metadata": {},
   "source": [
    "## 5. Evaluate the Model ## "
   ]
  },
  {
   "cell_type": "markdown",
   "metadata": {},
   "source": [
    "## 6. Predict the Stock Price ##"
   ]
  },
  {
   "cell_type": "markdown",
   "metadata": {},
   "source": [
    "## 7. Apply Abstractive Summarization ##"
   ]
  },
  {
   "cell_type": "code",
   "execution_count": null,
   "metadata": {},
   "outputs": [],
   "source": []
  }
 ],
 "metadata": {
  "kernelspec": {
   "display_name": "Python 3",
   "language": "python",
   "name": "python3"
  },
  "language_info": {
   "codemirror_mode": {
    "name": "ipython",
    "version": 3
   },
   "file_extension": ".py",
   "mimetype": "text/x-python",
   "name": "python",
   "nbconvert_exporter": "python",
   "pygments_lexer": "ipython3",
   "version": "3.7.4"
  }
 },
 "nbformat": 4,
 "nbformat_minor": 4
}
