{
 "cells": [
  {
   "cell_type": "markdown",
   "metadata": {},
   "source": [
    "# Sentiment Analysis for Stock Market Prediction #\n",
    "\n",
    "Reference: https://towardsdatascience.com/sentiment-analysis-for-stock-price-prediction-in-python-bed40c65d178"
   ]
  },
  {
   "cell_type": "markdown",
   "metadata": {},
   "source": [
    "### Imports and Packages ###"
   ]
  },
  {
   "cell_type": "code",
   "execution_count": 1,
   "metadata": {
    "tags": []
   },
   "outputs": [
    {
     "name": "stdout",
     "output_type": "stream",
     "text": [
      "2021-10-27 18:28:09,783 loading file /Users/aj/.flair/models/sentiment-en-mix-distillbert_4.pt\n"
     ]
    }
   ],
   "source": [
    "# For flair module\n",
    "import flair\n",
    "sentiment_model = flair.models.TextClassifier.load('en-sentiment')\n",
    "\n",
    "# For text cleaning and preparation\n",
    "import nltk\n",
    "from nltk.corpus import stopwords\n",
    "from nltk.stem import PorterStemmer\n",
    "from nltk.stem import WordNetLemmatizer\n",
    "lemmatizer = WordNetLemmatizer()\n",
    "stemmer = PorterStemmer() \n",
    "\n",
    "# For dealing with dataframe\n",
    "import pandas as pd\n",
    "\n",
    "# For making request to API\n",
    "import requests\n",
    "\n",
    "# For calling yahoo finance to get stock price \n",
    "import pandas_datareader as pdr\n",
    "import datetime as dt\n",
    "import dateutil.parser as dparser\n"
   ]
  },
  {
   "cell_type": "markdown",
   "metadata": {},
   "source": [
    "### Model Properties ###"
   ]
  },
  {
   "cell_type": "code",
   "execution_count": 2,
   "metadata": {},
   "outputs": [],
   "source": [
    "# Twitter Properties\n",
    "TWITTER_SEARCH_URI = 'https://api.twitter.com/1.1/search/tweets.json'  # Twitter API search URI\n",
    "TWITTER_BEARER_TOKEN = 'AAAAAAAAAAAAAAAAAAAAAF8pUQEAAAAAL7QXs9hTVl4Zq2GE%2FYhVQeJ9kyE%3DUaV8oJRddqkRSZfDXYqI7qS2lBnfRV8lj2S0K6BPJeg4pPfRQf'   # Token for twitter API\n",
    "TWITTER_MAX_SENTIMENT = 100   # Maximum number of sentiments to fetch from twitter API\n",
    "\n",
    "# Dataframe Properties\n",
    "AUTHOR_NAME = 'Author_Name'\n",
    "FOLLOWERS_COUNT = 'Followers_Count'\n",
    "USER_MENTIONS = 'User_Mentions'         # Contains comma separated full name of the mentioned user\n",
    "HASH_TAGS = 'Hash_Tags'                 # Contains comma separated hashtag texts\n",
    "FRIENDS_COUNT = 'Friends_Count'\n",
    "TEXT = 'Text'\n",
    "RETWEET_COUNT = 'Retweet_Count'\n",
    "CREATED_AT = 'Created_At'\n",
    "SENTIMENT = 'Sentiment'\n",
    "SENTIMENT_PROBABILITY = 'Sentiment_Probability'\n",
    "STOCK_PRICE = 'Stock_Price'\n",
    "\n",
    "# Stock Properties \n",
    "STOCK_NAME = 'tesla'    # Stock name to run model\n",
    "STOCK_TICKER = 'TSLA'"
   ]
  },
  {
   "cell_type": "markdown",
   "metadata": {
    "tags": []
   },
   "source": [
    "## 1. Extract Raw Data ##\n",
    "Calling Twitter API to get raw sentiments from users"
   ]
  },
  {
   "cell_type": "code",
   "execution_count": 3,
   "metadata": {
    "scrolled": true,
    "tags": []
   },
   "outputs": [],
   "source": [
    "# Parmeters to pass to twitter API\n",
    "params = {\n",
    "    'q': STOCK_NAME,\n",
    "    'tweet_mode': 'extended',\n",
    "    'lang': 'en',\n",
    "    'count': TWITTER_MAX_SENTIMENT\n",
    "}\n",
    "\n",
    "# Call twitter API\n",
    "response = requests.get(\n",
    "    TWITTER_SEARCH_URI,\n",
    "    params=params,\n",
    "    headers={\n",
    "        'authorization': 'Bearer '+ TWITTER_BEARER_TOKEN\n",
    "})\n",
    "\n",
    "# Get response in json\n",
    "response_json = response.json()"
   ]
  },
  {
   "cell_type": "markdown",
   "metadata": {},
   "source": [
    "## 2. Dataset Creation ##"
   ]
  },
  {
   "cell_type": "markdown",
   "metadata": {
    "tags": []
   },
   "source": [
    "### I. Converting twitter response json to dataset ###"
   ]
  },
  {
   "cell_type": "code",
   "execution_count": 4,
   "metadata": {},
   "outputs": [],
   "source": [
    "# Defining dataframe with features \n",
    "df = pd.DataFrame(columns=[\n",
    "    AUTHOR_NAME, \n",
    "    FOLLOWERS_COUNT, \n",
    "    USER_MENTIONS, \n",
    "    HASH_TAGS, \n",
    "    FRIENDS_COUNT, \n",
    "    TEXT, \n",
    "    RETWEET_COUNT, \n",
    "    CREATED_AT\n",
    "])"
   ]
  },
  {
   "cell_type": "code",
   "execution_count": 5,
   "metadata": {},
   "outputs": [],
   "source": [
    "# Converting twitter response json to dataset selecting required features\n",
    "for status in response_json['statuses']:    \n",
    "    df = df.append({\n",
    "        AUTHOR_NAME: status['user']['name'],\n",
    "        FOLLOWERS_COUNT: status['user']['followers_count'], \n",
    "        USER_MENTIONS: ','.join([ um['name'] for um in status['entities']['user_mentions']]),    # joined user mentions with comma separated value\n",
    "        HASH_TAGS: ','.join([ ht['text'] for ht in status['entities']['hashtags']]),         # joined hashtags with comma separated value\n",
    "        FRIENDS_COUNT: status['user']['friends_count'],\n",
    "        TEXT: status['full_text'],\n",
    "        RETWEET_COUNT: status['retweet_count'],\n",
    "        CREATED_AT: status['created_at']\n",
    "    }, ignore_index=True)"
   ]
  },
  {
   "cell_type": "markdown",
   "metadata": {
    "tags": []
   },
   "source": [
    "### II. Creating Stock Price label by using yahoo finance module ###"
   ]
  },
  {
   "cell_type": "code",
   "execution_count": 7,
   "metadata": {},
   "outputs": [],
   "source": [
    "# Creating dictionary of date and stock price for particular stock\n",
    "stock_price_dict = {}\n",
    "\n",
    "for created_at in df[CREATED_AT]:\n",
    "    parsed_date = dparser.parse(created_at, fuzzy=True)\n",
    "    date = dt.datetime(parsed_date.year,parsed_date.month,parsed_date.day)\n",
    "    if date not in stock_price_dict:\n",
    "        stock_price = pdr.get_data_yahoo(STOCK_TICKER, start = date, end = date)['Close'][0]\n",
    "        stock_price_dict[date] = stock_price"
   ]
  },
  {
   "cell_type": "code",
   "execution_count": 8,
   "metadata": {},
   "outputs": [],
   "source": [
    "# Adding stock price label in the dataframe\n",
    "stock_prices = []\n",
    "for created_at in df[CREATED_AT]:\n",
    "    parsed_date = dparser.parse(created_at, fuzzy=True)\n",
    "    date = dt.datetime(parsed_date.year,parsed_date.month,parsed_date.day)\n",
    "    stock_prices.append(stock_price_dict[date])\n",
    "\n",
    "df[STOCK_PRICE] = stock_prices"
   ]
  },
  {
   "cell_type": "code",
   "execution_count": 9,
   "metadata": {},
   "outputs": [
    {
     "data": {
      "text/html": [
       "<div>\n",
       "<style scoped>\n",
       "    .dataframe tbody tr th:only-of-type {\n",
       "        vertical-align: middle;\n",
       "    }\n",
       "\n",
       "    .dataframe tbody tr th {\n",
       "        vertical-align: top;\n",
       "    }\n",
       "\n",
       "    .dataframe thead th {\n",
       "        text-align: right;\n",
       "    }\n",
       "</style>\n",
       "<table border=\"1\" class=\"dataframe\">\n",
       "  <thead>\n",
       "    <tr style=\"text-align: right;\">\n",
       "      <th></th>\n",
       "      <th>Author_Name</th>\n",
       "      <th>Followers_Count</th>\n",
       "      <th>User_Mentions</th>\n",
       "      <th>Hash_Tags</th>\n",
       "      <th>Friends_Count</th>\n",
       "      <th>Text</th>\n",
       "      <th>Retweet_Count</th>\n",
       "      <th>Created_At</th>\n",
       "      <th>Stock_Price</th>\n",
       "    </tr>\n",
       "  </thead>\n",
       "  <tbody>\n",
       "    <tr>\n",
       "      <th>0</th>\n",
       "      <td>Joseph L</td>\n",
       "      <td>35</td>\n",
       "      <td>Derry Doberman,Joseph L,SwiftOnSecurity,Tesla,...</td>\n",
       "      <td></td>\n",
       "      <td>384</td>\n",
       "      <td>RT @DerryDoberman: @JoeLibuszowski @SwiftOnSec...</td>\n",
       "      <td>1</td>\n",
       "      <td>Wed Oct 27 22:28:10 +0000 2021</td>\n",
       "      <td>1037.859985</td>\n",
       "    </tr>\n",
       "    <tr>\n",
       "      <th>1</th>\n",
       "      <td>Sarbjeet Johal</td>\n",
       "      <td>25605</td>\n",
       "      <td>Sarbjeet Johal,Market Rebellion,Tesla,General ...</td>\n",
       "      <td></td>\n",
       "      <td>17519</td>\n",
       "      <td>RT @sarbjeetjohal: @MarketRebels Today, @Tesla...</td>\n",
       "      <td>1</td>\n",
       "      <td>Wed Oct 27 22:28:08 +0000 2021</td>\n",
       "      <td>1037.859985</td>\n",
       "    </tr>\n",
       "    <tr>\n",
       "      <th>2</th>\n",
       "      <td>Jorge A. Sanchez</td>\n",
       "      <td>456</td>\n",
       "      <td>CleanTechnica</td>\n",
       "      <td></td>\n",
       "      <td>1226</td>\n",
       "      <td>RT @cleantechnica: Tesla’s Horde Of Megapacks ...</td>\n",
       "      <td>9</td>\n",
       "      <td>Wed Oct 27 22:28:08 +0000 2021</td>\n",
       "      <td>1037.859985</td>\n",
       "    </tr>\n",
       "    <tr>\n",
       "      <th>3</th>\n",
       "      <td>8of10doesTheSopranos</td>\n",
       "      <td>3</td>\n",
       "      <td>𝗧𝗲𝘀𝗹𝗮 𝗙𝗮𝗰𝘁𝘀 🔋,Charlie Schulze,Paul Krugman</td>\n",
       "      <td></td>\n",
       "      <td>104</td>\n",
       "      <td>@truth_tesla @schulzecharlie2 @paulkrugman Yo ...</td>\n",
       "      <td>0</td>\n",
       "      <td>Wed Oct 27 22:28:08 +0000 2021</td>\n",
       "      <td>1037.859985</td>\n",
       "    </tr>\n",
       "    <tr>\n",
       "      <th>4</th>\n",
       "      <td>Arturo Ibarra</td>\n",
       "      <td>286</td>\n",
       "      <td>Elon Musk,Jay in Shanghai 🇨🇳</td>\n",
       "      <td></td>\n",
       "      <td>544</td>\n",
       "      <td>RT @elonmusk: @JayinShanghai That math is inco...</td>\n",
       "      <td>271</td>\n",
       "      <td>Wed Oct 27 22:28:06 +0000 2021</td>\n",
       "      <td>1037.859985</td>\n",
       "    </tr>\n",
       "  </tbody>\n",
       "</table>\n",
       "</div>"
      ],
      "text/plain": [
       "            Author_Name Followers_Count  \\\n",
       "0              Joseph L              35   \n",
       "1        Sarbjeet Johal           25605   \n",
       "2      Jorge A. Sanchez             456   \n",
       "3  8of10doesTheSopranos               3   \n",
       "4         Arturo Ibarra             286   \n",
       "\n",
       "                                       User_Mentions Hash_Tags Friends_Count  \\\n",
       "0  Derry Doberman,Joseph L,SwiftOnSecurity,Tesla,...                     384   \n",
       "1  Sarbjeet Johal,Market Rebellion,Tesla,General ...                   17519   \n",
       "2                                      CleanTechnica                    1226   \n",
       "3         𝗧𝗲𝘀𝗹𝗮 𝗙𝗮𝗰𝘁𝘀 🔋,Charlie Schulze,Paul Krugman                     104   \n",
       "4                       Elon Musk,Jay in Shanghai 🇨🇳                     544   \n",
       "\n",
       "                                                Text Retweet_Count  \\\n",
       "0  RT @DerryDoberman: @JoeLibuszowski @SwiftOnSec...             1   \n",
       "1  RT @sarbjeetjohal: @MarketRebels Today, @Tesla...             1   \n",
       "2  RT @cleantechnica: Tesla’s Horde Of Megapacks ...             9   \n",
       "3  @truth_tesla @schulzecharlie2 @paulkrugman Yo ...             0   \n",
       "4  RT @elonmusk: @JayinShanghai That math is inco...           271   \n",
       "\n",
       "                       Created_At  Stock_Price  \n",
       "0  Wed Oct 27 22:28:10 +0000 2021  1037.859985  \n",
       "1  Wed Oct 27 22:28:08 +0000 2021  1037.859985  \n",
       "2  Wed Oct 27 22:28:08 +0000 2021  1037.859985  \n",
       "3  Wed Oct 27 22:28:08 +0000 2021  1037.859985  \n",
       "4  Wed Oct 27 22:28:06 +0000 2021  1037.859985  "
      ]
     },
     "execution_count": 9,
     "metadata": {},
     "output_type": "execute_result"
    }
   ],
   "source": [
    "# Displaying top 5 record for visualizing\n",
    "df.head(5)"
   ]
  },
  {
   "cell_type": "markdown",
   "metadata": {
    "tags": []
   },
   "source": [
    "## 3. Feature Engineering ##"
   ]
  },
  {
   "cell_type": "markdown",
   "metadata": {
    "tags": []
   },
   "source": [
    "### I. Applying text cleaning methods ###"
   ]
  },
  {
   "cell_type": "code",
   "execution_count": 10,
   "metadata": {},
   "outputs": [],
   "source": [
    "# Function to clean text by applying several text cleaning methods\n",
    "def clean_prepare_text(text):\n",
    "    # 1. Clean the text - cleaning special character\n",
    "    filtered_text = text.replace(\"\\r\", \" \").replace(\"\\n\", \" \").replace(\"  \", \" \")\n",
    "\n",
    "    # 2. Remove all the punctuations\n",
    "    for punct_sign in list(\"?:!,;\\\"\"):\n",
    "        filtered_text = filtered_text.replace(punct_sign, '')\n",
    "\n",
    "    # 3. Convert to lowercase \n",
    "    filtered_text = filtered_text.lower()\n",
    "\n",
    "    # 4. Remove stopwords\n",
    "    filtered_text = \" \".join([text for text in filtered_text.split(\" \") if text not in stopwords.words('english')])\n",
    "\n",
    "    # 5. Remove meaningles words \n",
    "    filtered_text = filtered_text.replace(\"\\'ve\", '').replace(\"\\'s\", '').replace(\"\\'m\", '').replace(\"\\'t\", '')\n",
    "\n",
    "    # 6.a. Stemming\n",
    "    filtered_text = \" \".join([stemmer.stem(text) for text in filtered_text.split(\" \")])\n",
    "\n",
    "    # 6.b. lemmatization\n",
    "    filtered_text = \" \".join([lemmatizer.lemmatize(text) for text in filtered_text.split(\" \")])\n",
    "\n",
    "    return filtered_text\n"
   ]
  },
  {
   "cell_type": "code",
   "execution_count": 11,
   "metadata": {},
   "outputs": [],
   "source": [
    "# Clean and Prepare text for further processing\n",
    "df[TEXT] = [clean_prepare_text(text) for text in df[TEXT]]"
   ]
  },
  {
   "cell_type": "markdown",
   "metadata": {
    "tags": []
   },
   "source": [
    "### II. Creating Sentiment Feature by using pretrained 'flair' Model ###"
   ]
  },
  {
   "cell_type": "code",
   "execution_count": 12,
   "metadata": {},
   "outputs": [],
   "source": [
    "sentiments = []\n",
    "sentiment_probabilities = []\n",
    "\n",
    "for text in df[TEXT]:\n",
    "    sentence = flair.data.Sentence(text)\n",
    "    sentiment_model.predict(sentence)\n",
    "    \n",
    "    probability = sentence.labels[0].score  # numerical value 0-1\n",
    "    sentiment = sentence.labels[0].value    # 'POSITIVE' or 'NEGATIVE'\n",
    "    \n",
    "    sentiments.append(sentiment)\n",
    "    sentiment_probabilities.append(probability)\n",
    "    \n",
    "df[SENTIMENT] = sentiments\n",
    "df[SENTIMENT_PROBABILITY] = sentiment_probabilities"
   ]
  },
  {
   "cell_type": "code",
   "execution_count": 13,
   "metadata": {},
   "outputs": [
    {
     "data": {
      "text/html": [
       "<div>\n",
       "<style scoped>\n",
       "    .dataframe tbody tr th:only-of-type {\n",
       "        vertical-align: middle;\n",
       "    }\n",
       "\n",
       "    .dataframe tbody tr th {\n",
       "        vertical-align: top;\n",
       "    }\n",
       "\n",
       "    .dataframe thead th {\n",
       "        text-align: right;\n",
       "    }\n",
       "</style>\n",
       "<table border=\"1\" class=\"dataframe\">\n",
       "  <thead>\n",
       "    <tr style=\"text-align: right;\">\n",
       "      <th></th>\n",
       "      <th>Author_Name</th>\n",
       "      <th>Followers_Count</th>\n",
       "      <th>User_Mentions</th>\n",
       "      <th>Hash_Tags</th>\n",
       "      <th>Friends_Count</th>\n",
       "      <th>Text</th>\n",
       "      <th>Retweet_Count</th>\n",
       "      <th>Created_At</th>\n",
       "      <th>Stock_Price</th>\n",
       "      <th>Sentiment</th>\n",
       "      <th>Sentiment_Probability</th>\n",
       "    </tr>\n",
       "  </thead>\n",
       "  <tbody>\n",
       "    <tr>\n",
       "      <th>0</th>\n",
       "      <td>Joseph L</td>\n",
       "      <td>35</td>\n",
       "      <td>Derry Doberman,Joseph L,SwiftOnSecurity,Tesla,...</td>\n",
       "      <td></td>\n",
       "      <td>384</td>\n",
       "      <td>rt @derrydoberman @joelibuszowski @swiftonsecu...</td>\n",
       "      <td>1</td>\n",
       "      <td>Wed Oct 27 22:28:10 +0000 2021</td>\n",
       "      <td>1037.859985</td>\n",
       "      <td>POSITIVE</td>\n",
       "      <td>0.918251</td>\n",
       "    </tr>\n",
       "    <tr>\n",
       "      <th>1</th>\n",
       "      <td>Sarbjeet Johal</td>\n",
       "      <td>25605</td>\n",
       "      <td>Sarbjeet Johal,Market Rebellion,Tesla,General ...</td>\n",
       "      <td></td>\n",
       "      <td>17519</td>\n",
       "      <td>rt @sarbjeetjoh @marketrebel today @tesla ~70%...</td>\n",
       "      <td>1</td>\n",
       "      <td>Wed Oct 27 22:28:08 +0000 2021</td>\n",
       "      <td>1037.859985</td>\n",
       "      <td>POSITIVE</td>\n",
       "      <td>0.904611</td>\n",
       "    </tr>\n",
       "    <tr>\n",
       "      <th>2</th>\n",
       "      <td>Jorge A. Sanchez</td>\n",
       "      <td>456</td>\n",
       "      <td>CleanTechnica</td>\n",
       "      <td></td>\n",
       "      <td>1226</td>\n",
       "      <td>rt @cleantechnica tesla’ hord megapack begin e...</td>\n",
       "      <td>9</td>\n",
       "      <td>Wed Oct 27 22:28:08 +0000 2021</td>\n",
       "      <td>1037.859985</td>\n",
       "      <td>NEGATIVE</td>\n",
       "      <td>0.792723</td>\n",
       "    </tr>\n",
       "    <tr>\n",
       "      <th>3</th>\n",
       "      <td>8of10doesTheSopranos</td>\n",
       "      <td>3</td>\n",
       "      <td>𝗧𝗲𝘀𝗹𝗮 𝗙𝗮𝗰𝘁𝘀 🔋,Charlie Schulze,Paul Krugman</td>\n",
       "      <td></td>\n",
       "      <td>104</td>\n",
       "      <td>@truth_tesla @schulzecharlie2 @paulkrugman yo ...</td>\n",
       "      <td>0</td>\n",
       "      <td>Wed Oct 27 22:28:08 +0000 2021</td>\n",
       "      <td>1037.859985</td>\n",
       "      <td>NEGATIVE</td>\n",
       "      <td>0.770787</td>\n",
       "    </tr>\n",
       "    <tr>\n",
       "      <th>4</th>\n",
       "      <td>Arturo Ibarra</td>\n",
       "      <td>286</td>\n",
       "      <td>Elon Musk,Jay in Shanghai 🇨🇳</td>\n",
       "      <td></td>\n",
       "      <td>544</td>\n",
       "      <td>rt @elonmusk @jayinshanghai math incorrect sti...</td>\n",
       "      <td>271</td>\n",
       "      <td>Wed Oct 27 22:28:06 +0000 2021</td>\n",
       "      <td>1037.859985</td>\n",
       "      <td>NEGATIVE</td>\n",
       "      <td>0.998797</td>\n",
       "    </tr>\n",
       "  </tbody>\n",
       "</table>\n",
       "</div>"
      ],
      "text/plain": [
       "            Author_Name Followers_Count  \\\n",
       "0              Joseph L              35   \n",
       "1        Sarbjeet Johal           25605   \n",
       "2      Jorge A. Sanchez             456   \n",
       "3  8of10doesTheSopranos               3   \n",
       "4         Arturo Ibarra             286   \n",
       "\n",
       "                                       User_Mentions Hash_Tags Friends_Count  \\\n",
       "0  Derry Doberman,Joseph L,SwiftOnSecurity,Tesla,...                     384   \n",
       "1  Sarbjeet Johal,Market Rebellion,Tesla,General ...                   17519   \n",
       "2                                      CleanTechnica                    1226   \n",
       "3         𝗧𝗲𝘀𝗹𝗮 𝗙𝗮𝗰𝘁𝘀 🔋,Charlie Schulze,Paul Krugman                     104   \n",
       "4                       Elon Musk,Jay in Shanghai 🇨🇳                     544   \n",
       "\n",
       "                                                Text Retweet_Count  \\\n",
       "0  rt @derrydoberman @joelibuszowski @swiftonsecu...             1   \n",
       "1  rt @sarbjeetjoh @marketrebel today @tesla ~70%...             1   \n",
       "2  rt @cleantechnica tesla’ hord megapack begin e...             9   \n",
       "3  @truth_tesla @schulzecharlie2 @paulkrugman yo ...             0   \n",
       "4  rt @elonmusk @jayinshanghai math incorrect sti...           271   \n",
       "\n",
       "                       Created_At  Stock_Price Sentiment  \\\n",
       "0  Wed Oct 27 22:28:10 +0000 2021  1037.859985  POSITIVE   \n",
       "1  Wed Oct 27 22:28:08 +0000 2021  1037.859985  POSITIVE   \n",
       "2  Wed Oct 27 22:28:08 +0000 2021  1037.859985  NEGATIVE   \n",
       "3  Wed Oct 27 22:28:08 +0000 2021  1037.859985  NEGATIVE   \n",
       "4  Wed Oct 27 22:28:06 +0000 2021  1037.859985  NEGATIVE   \n",
       "\n",
       "   Sentiment_Probability  \n",
       "0               0.918251  \n",
       "1               0.904611  \n",
       "2               0.792723  \n",
       "3               0.770787  \n",
       "4               0.998797  "
      ]
     },
     "execution_count": 13,
     "metadata": {},
     "output_type": "execute_result"
    }
   ],
   "source": [
    "# Displaying top 5 record for visualizing\n",
    "df.head(5)"
   ]
  },
  {
   "cell_type": "markdown",
   "metadata": {
    "tags": []
   },
   "source": [
    "## 4. Train the Model ##"
   ]
  },
  {
   "cell_type": "markdown",
   "metadata": {},
   "source": [
    "## 5. Evaluate the Model ## "
   ]
  },
  {
   "cell_type": "markdown",
   "metadata": {},
   "source": [
    "## 6. Predict the Stock Price ##"
   ]
  },
  {
   "cell_type": "markdown",
   "metadata": {},
   "source": [
    "## 7. Apply Abstractive Summarization ##"
   ]
  },
  {
   "cell_type": "code",
   "execution_count": null,
   "metadata": {},
   "outputs": [],
   "source": []
  }
 ],
 "metadata": {
  "kernelspec": {
   "display_name": "Python 3 (ipykernel)",
   "language": "python",
   "name": "python3"
  },
  "language_info": {
   "codemirror_mode": {
    "name": "ipython",
    "version": 3
   },
   "file_extension": ".py",
   "mimetype": "text/x-python",
   "name": "python",
   "nbconvert_exporter": "python",
   "pygments_lexer": "ipython3",
   "version": "3.8.8"
  }
 },
 "nbformat": 4,
 "nbformat_minor": 4
}
